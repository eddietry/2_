{
 "cells": [
  {
   "cell_type": "code",
   "execution_count": 2,
   "metadata": {},
   "outputs": [],
   "source": [
    "# import \n",
    "import numpy as np\n",
    "import random\n",
    "from random import sample\n",
    "import math"
   ]
  },
  {
   "cell_type": "code",
   "execution_count": 3,
   "metadata": {},
   "outputs": [],
   "source": [
    "def euc_2d(c1,c2):\n",
    "    return math.sqrt((c1[0]-c2[0])**2+(c1[1]-c2[1])**2)\n",
    "\n",
    "def cost(sol,cities):\n",
    "    distance = 0 \n",
    "    for i,c1 in enumerate(sol):\n",
    "        if (i == len(sol)-1):\n",
    "            c2 = sol[0]\n",
    "        else:\n",
    "            c2 = sol[i+1]\n",
    "        distance += euc_2d(cities[c1],cities[c2])\n",
    "    return distance\n",
    "\n",
    "def random_permutation(cities):\n",
    "    perm = np.random.permutation(len(cities))\n",
    "    return perm"
   ]
  },
  {
   "cell_type": "code",
   "execution_count": 4,
   "metadata": {},
   "outputs": [],
   "source": [
    "def stochastic_two_opt(permutation):\n",
    "    perm_size = len(permutation)\n",
    "    new_perm = []\n",
    "    x = list(permutation)\n",
    "    start,end = sorted(sample(range(perm_size),2))\n",
    "    exclude = [start]\n",
    "    if start==0:\n",
    "        exclude.append(perm_size-1)\n",
    "    else:\n",
    "        exclude.append(start-1)\n",
    "    if start==perm_size-1:\n",
    "        exclude.append(0)\n",
    "    else:\n",
    "        exclude.append(start+1)\n",
    "    while end in exclude:\n",
    "        end = sample(range(perm_size),1)[0]\n",
    "    if end < start:\n",
    "        start,end = end,start\n",
    "    new_perm = x[:start]\n",
    "    new_perm += (list(reversed(x[start:end])))\n",
    "    new_perm += x[end:]\n",
    "    \n",
    "    return new_perm\n",
    "\n",
    "def local_search(best,cities,max_no_impr,neighborhood):\n",
    "    count = 0 \n",
    "    while count < max_no_impr:\n",
    "        candidate = {}\n",
    "        candidate['vector'] = best['vector']\n",
    "        for i in range(neighborhood):\n",
    "            candidate['vector'] = stochastic_two_opt(candidate['vector'])\n",
    "        candidate['cost'] = cost(candidate['vector'],cities)\n",
    "        if candidate['cost'] < best['cost']:\n",
    "            best = candidate\n",
    "            count = 0\n",
    "        else:\n",
    "            count += 1\n",
    "    return best"
   ]
  },
  {
   "cell_type": "code",
   "execution_count": 5,
   "metadata": {},
   "outputs": [],
   "source": [
    "def search(cities, neighborhoods, max_no_improv, max_no_improv_ls):\n",
    "    best = {}\n",
    "    best['vector'] = random_permutation(cities)\n",
    "    best['cost'] = cost(best['vector'],cities)\n",
    "    iter_,count = 0,0\n",
    "    while iter_ < max_no_improv:\n",
    "        for neigh in neighborhoods:\n",
    "            candidate = {}\n",
    "            candidate['vector'] = best['vector']\n",
    "            for i in range(neigh):\n",
    "                candidate['vector'] = stochastic_two_opt(candidate['vector'])\n",
    "            candidate['cost'] = cost(candidate['vector'],cities) \n",
    "            candidate = local_search(candidate,cities,max_no_improv_ls,neigh)  \n",
    "            iter_ += 1\n",
    "            if candidate['cost'] < best['cost']:\n",
    "                best,count = candidate,0\n",
    "                print(\"Best solution of iters_ {} is_ {}\".format(iter_,candidate['cost']))\n",
    "            else:\n",
    "                count += 1\n",
    "    return best"
   ]
  },
  {
   "cell_type": "code",
   "execution_count": 6,
   "metadata": {},
   "outputs": [
    {
     "name": "stdout",
     "output_type": "stream",
     "text": [
      "Best solution of iters_ 2 is_ 11503.904394552743\n",
      "Best solution of iters_ 22 is_ 10434.735662084266\n",
      "Best solution of iters_ 82 is_ 10365.121653298876\n",
      "Best solution of iters_ 102 is_ 10094.90911638431\n",
      "Best solution of iters_ 122 is_ 9708.937164442412\n",
      "Best solution of iters_ 142 is_ 9600.510387037411\n",
      "Best solution of iters_ 182 is_ 9266.03291944071\n",
      "Best solution of iters_ 262 is_ 9015.193987191295\n"
     ]
    }
   ],
   "source": [
    "# problem configuration\n",
    "berlin52 = [[565,575],[25,185],[345,750],[945,685],[845,655],\n",
    "[880,660],[25,230],[525,1000],[580,1175],[650,1130],[1605,620],\n",
    "[1220,580],[1465,200],[1530,5],[845,680],[725,370],[145,665],\n",
    "[415,635],[510,875],[560,365],[300,465],[520,585],[480,415],\n",
    "[835,625],[975,580],[1215,245],[1320,315],[1250,400],[660,180],\n",
    "[410,250],[420,555],[575,665],[1150,1160],[700,580],[685,595],\n",
    "[685,610],[770,610],[795,645],[720,635],[760,650],[475,960],\n",
    "[95,260],[875,920],[700,500],[555,815],[830,485],[1170,65],\n",
    "[830,610],[605,625],[595,360],[1340,725],[1740,245]]\n",
    "# algorithm configuration\n",
    "max_no_improv = 500\n",
    "max_no_improv_ls = 100\n",
    "neighborhoods = [i for i in range(20)]\n",
    "# execute the algorithm\n",
    "best = search(berlin52, neighborhoods, max_no_improv, max_no_improv_ls)"
   ]
  },
  {
   "cell_type": "code",
   "execution_count": null,
   "metadata": {},
   "outputs": [],
   "source": []
  }
 ],
 "metadata": {
  "kernelspec": {
   "display_name": "Python 3",
   "language": "python",
   "name": "python3"
  },
  "language_info": {
   "codemirror_mode": {
    "name": "ipython",
    "version": 3
   },
   "file_extension": ".py",
   "mimetype": "text/x-python",
   "name": "python",
   "nbconvert_exporter": "python",
   "pygments_lexer": "ipython3",
   "version": "3.7.1"
  }
 },
 "nbformat": 4,
 "nbformat_minor": 2
}
