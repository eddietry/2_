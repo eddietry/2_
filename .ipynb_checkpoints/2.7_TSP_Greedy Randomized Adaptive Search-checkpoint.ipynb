{
 "cells": [
  {
   "cell_type": "code",
   "execution_count": 1,
   "metadata": {},
   "outputs": [],
   "source": [
    "import math\n",
    "import random \n",
    "from random import sample\n",
    "import numpy as np"
   ]
  },
  {
   "cell_type": "code",
   "execution_count": 2,
   "metadata": {},
   "outputs": [],
   "source": [
    "def euc_2d(c1,c2):\n",
    "    return math.sqrt((c1[0]-c2[0])**2+(c1[1]-c2[1])**2)\n",
    "\n",
    "def cost(sol,cities):\n",
    "    distance = 0 \n",
    "    for i,c1 in enumerate(sol):\n",
    "        if (i == len(sol)-1):\n",
    "            c2 = sol[0]\n",
    "        else:\n",
    "            c2 = sol[i+1]\n",
    "        distance += euc_2d(cities[c1],cities[c2])\n",
    "    return distance\n",
    "\n",
    "def random_permutation(cities):\n",
    "    perm = np.random.permutation(len(cities))\n",
    "    return perm\n",
    "\n",
    "def stochastic_two_opt(permutation):\n",
    "    perm_size = len(permutation)\n",
    "    new_perm = []\n",
    "    x = list(permutation)\n",
    "    start,end = sorted(sample(range(perm_size),2))\n",
    "    exclude = [start]\n",
    "    if start==0:\n",
    "        exclude.append(perm_size-1)\n",
    "    else:\n",
    "        exclude.append(start-1)\n",
    "    if start==perm_size-1:\n",
    "        exclude.append(0)\n",
    "    else:\n",
    "        exclude.append(start+1)\n",
    "    while end in exclude:\n",
    "        end = sample(range(perm_size),1)[0]\n",
    "    if end < start:\n",
    "        start,end = end,start\n",
    "    new_perm = x[:start]\n",
    "    new_perm += (list(reversed(x[start:end])))\n",
    "    new_perm += x[end:]\n",
    "    \n",
    "    return new_perm\n",
    "\n",
    "def local_search(best, cities, max_no_improv):\n",
    "    n = 0\n",
    "    while n < max_no_improv:\n",
    "        candidate = {'vector':stochastic_two_opt(best['vector'])}\n",
    "        candidate['cost'] = cost(candidate['vector'],cities)\n",
    "        if candidate['cost'] < best['cost']:\n",
    "            best = candidate\n",
    "            n +=1\n",
    "    return best"
   ]
  },
  {
   "cell_type": "code",
   "execution_count": 3,
   "metadata": {},
   "outputs": [],
   "source": [
    "def construct_randomized_greedy_solution(cities, alpha):\n",
    "    candidate = {}\n",
    "    cities_size = len(cities)\n",
    "    candidate['vector'] = sample(range(cities_size),1)\n",
    "    allCities = [i for i in range(cities_size)]\n",
    "    while len(candidate['vector']) < cities_size:\n",
    "        candidates = [i  for i in allCities if i not in candidate['vector']]\n",
    "        costs = [ euc_2d(cities[candidate['vector'][-1]],cities[i]) for i in candidates]\n",
    "        rcl,max_,min_ = [],max(costs),min(costs)\n",
    "        rcl = [candidates[i] for i,c in enumerate(costs) if c <= (min_+alpha*(max_-min_))]\n",
    "        candidate['vector'].append(np.random.choice(rcl))\n",
    "        candidate['cost'] = cost(candidate['vector'],cities)\n",
    "    return candidate\n",
    "\n",
    "def search(cities, max_iter, max_no_improv, alpha):\n",
    "    best = None\n",
    "    for iter_ in range(max_iter):\n",
    "        candidate = construct_randomized_greedy_solution(cities,alpha)\n",
    "        candidate = local_search(candidate,cities,max_no_improv)\n",
    "        if not best or candidate['cost'] < best['cost']:\n",
    "            best = candidate\n",
    "            print(\"Best solution of iters_ {} is_ {}\".format(iter_,candidate['cost']))\n",
    "    return best\n"
   ]
  },
  {
   "cell_type": "code",
   "execution_count": 4,
   "metadata": {},
   "outputs": [
    {
     "name": "stdout",
     "output_type": "stream",
     "text": [
      "Best solution of iters_ 0 is_ 10777.695761722453\n",
      "Best solution of iters_ 1 is_ 10284.016479999887\n",
      "Best solution of iters_ 5 is_ 10204.480908396707\n",
      "Best solution of iters_ 9 is_ 9695.13242240045\n",
      "Best solution of iters_ 30 is_ 9270.544334428865\n",
      "Best solution of iters_ 101 is_ 9208.588258216943\n",
      "Best solution of iters_ 175 is_ 8928.268740755451\n"
     ]
    }
   ],
   "source": [
    "# problem configuration\n",
    "berlin52 = [[565,575],[25,185],[345,750],[945,685],[845,655],\n",
    "[880,660],[25,230],[525,1000],[580,1175],[650,1130],[1605,620],\n",
    "[1220,580],[1465,200],[1530,5],[845,680],[725,370],[145,665],\n",
    "[415,635],[510,875],[560,365],[300,465],[520,585],[480,415],\n",
    "[835,625],[975,580],[1215,245],[1320,315],[1250,400],[660,180],\n",
    "[410,250],[420,555],[575,665],[1150,1160],[700,580],[685,595],\n",
    "[685,610],[770,610],[795,645],[720,635],[760,650],[475,960],\n",
    "[95,260],[875,920],[700,500],[555,815],[830,485],[1170,65],\n",
    "[830,610],[605,625],[595,360],[1340,725],[1740,245]]\n",
    "# algorithm configuration\n",
    "max_iter = 200\n",
    "max_no_improv = 50\n",
    "greediness_factor = 0.3\n",
    "# execute the algorithm\n",
    "best = search(berlin52, max_iter, max_no_improv, greediness_factor)"
   ]
  },
  {
   "cell_type": "code",
   "execution_count": null,
   "metadata": {},
   "outputs": [],
   "source": []
  }
 ],
 "metadata": {
  "kernelspec": {
   "display_name": "Python 3",
   "language": "python",
   "name": "python3"
  },
  "language_info": {
   "codemirror_mode": {
    "name": "ipython",
    "version": 3
   },
   "file_extension": ".py",
   "mimetype": "text/x-python",
   "name": "python",
   "nbconvert_exporter": "python",
   "pygments_lexer": "ipython3",
   "version": "3.7.1"
  }
 },
 "nbformat": 4,
 "nbformat_minor": 2
}
