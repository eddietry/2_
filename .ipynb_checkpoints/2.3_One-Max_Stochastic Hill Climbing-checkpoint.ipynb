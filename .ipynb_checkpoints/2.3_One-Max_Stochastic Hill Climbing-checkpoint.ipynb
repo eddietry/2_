{
 "cells": [
  {
   "cell_type": "code",
   "execution_count": 1,
   "metadata": {},
   "outputs": [],
   "source": [
    "import numpy as np\n",
    "from random import sample"
   ]
  },
  {
   "cell_type": "code",
   "execution_count": 2,
   "metadata": {},
   "outputs": [],
   "source": [
    "def onemax(vector):\n",
    "    return sum(vector)\n",
    "\n",
    "def random_bitstring(num_bits):\n",
    "    return np.random.randint(2,size =num_bits)\n",
    "\n",
    "def random_neighbor(bitstring):\n",
    "    index = np.random.choice(range(len(bitstring)))\n",
    "    if bitstring[index] == 0:\n",
    "        bitstring[index] = 1\n",
    "    return bitstring"
   ]
  },
  {
   "cell_type": "code",
   "execution_count": 3,
   "metadata": {},
   "outputs": [],
   "source": [
    "def search(max_iterations, num_bits):\n",
    "    candidate = {}\n",
    "    candidate['vector'] = random_bitstring(num_bits)\n",
    "    candidate['cost'] = onemax(candidate['vector'])\n",
    "    for iter_ in range(max_iterations):\n",
    "        neighbor = {}\n",
    "        neighbor['vector'] = random_neighbor(candidate['vector'])\n",
    "        neighbor['cost'] = onemax(neighbor['vector'])\n",
    "        if neighbor['cost'] > candidate['cost']:\n",
    "            candidate = neighbor\n",
    "#         print(\"Best solution of iters_ {} is_ {}\".format(iter_,candidate['vector']))\n",
    "#         print(\"obj is {}\".format(candidate['cost']))\n",
    "    return candidate\n"
   ]
  },
  {
   "cell_type": "code",
   "execution_count": 4,
   "metadata": {},
   "outputs": [
    {
     "name": "stdout",
     "output_type": "stream",
     "text": [
      "Best solution: [1 1 1 1 1 1 1 1 1 1 1 1 1 1 1 1 1 1 1 1 1 1 1 1 1 1 1 0 1 1 1 1 1 1 1 1 1\n",
      " 1 1 1 1 1 1 1 1 1 1 1 1 1 1 1 1 1 1 1 1 1 1 1 1 1 1 1]\n",
      "obj is 63\n"
     ]
    }
   ],
   "source": [
    "# problem configuration\n",
    "num_bits = 64\n",
    "# algorithm configuration\n",
    "max_iterations = 200\n",
    "# execute the algorithm\n",
    "best = search(max_iterations, num_bits)\n",
    "print(\"Best solution: {}\".format(best['vector']))\n",
    "print(\"obj is {}\".format(best['cost']))"
   ]
  },
  {
   "cell_type": "code",
   "execution_count": null,
   "metadata": {},
   "outputs": [],
   "source": []
  }
 ],
 "metadata": {
  "kernelspec": {
   "display_name": "Python 3",
   "language": "python",
   "name": "python3"
  },
  "language_info": {
   "codemirror_mode": {
    "name": "ipython",
    "version": 3
   },
   "file_extension": ".py",
   "mimetype": "text/x-python",
   "name": "python",
   "nbconvert_exporter": "python",
   "pygments_lexer": "ipython3",
   "version": "3.7.1"
  }
 },
 "nbformat": 4,
 "nbformat_minor": 2
}
