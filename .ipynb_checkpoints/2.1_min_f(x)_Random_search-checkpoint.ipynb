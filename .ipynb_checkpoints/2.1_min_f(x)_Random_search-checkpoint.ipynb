{
 "cells": [
  {
   "cell_type": "code",
   "execution_count": 1,
   "metadata": {},
   "outputs": [],
   "source": [
    "import random"
   ]
  },
  {
   "cell_type": "code",
   "execution_count": 2,
   "metadata": {},
   "outputs": [],
   "source": [
    "def objective_function(vector):\n",
    "    return sum([ x**2 for x in vector])\n",
    "\n",
    "def random_vector(minmax):\n",
    "    sol = [round(random.uniform(minmax[i][0],minmax[i][1]),2) for i in range(len(minmax))]\n",
    "    return sol\n",
    "\n",
    "def search(search_space, max_iter):\n",
    "    best = {}\n",
    "    for i in range(max_iter):\n",
    "        candidate = {}\n",
    "        candidate['vector'] = random_vector(search_space)\n",
    "        candidate['cost'] = objective_function(candidate['vector'])\n",
    "        if not best or candidate['cost'] < best['cost']:\n",
    "            best = candidate\n",
    "    return best"
   ]
  },
  {
   "cell_type": "code",
   "execution_count": 3,
   "metadata": {},
   "outputs": [
    {
     "name": "stdout",
     "output_type": "stream",
     "text": [
      "Best solution: [-0.17, 0.34]\n",
      "obj is 0.14450000000000002\n"
     ]
    }
   ],
   "source": [
    "# problem configuration\n",
    "problem_size = 2\n",
    "search_space = [[-5,5] for i in range(problem_size)]\n",
    "# algorithm configuration\n",
    "max_iter = 100\n",
    "# execute the algorithm\n",
    "best = search(search_space, max_iter)\n",
    "print(\"Best solution: {}\".format(best['vector']))\n",
    "print(\"obj is {}\".format(best['cost']))"
   ]
  }
 ],
 "metadata": {
  "kernelspec": {
   "display_name": "Python 3",
   "language": "python",
   "name": "python3"
  },
  "language_info": {
   "codemirror_mode": {
    "name": "ipython",
    "version": 3
   },
   "file_extension": ".py",
   "mimetype": "text/x-python",
   "name": "python",
   "nbconvert_exporter": "python",
   "pygments_lexer": "ipython3",
   "version": "3.7.1"
  }
 },
 "nbformat": 4,
 "nbformat_minor": 2
}
