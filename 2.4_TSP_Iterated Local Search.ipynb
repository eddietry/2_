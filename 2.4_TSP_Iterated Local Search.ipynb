{
 "cells": [
  {
   "cell_type": "code",
   "execution_count": 9,
   "metadata": {},
   "outputs": [],
   "source": [
    "import math\n",
    "import random \n",
    "import numpy as np"
   ]
  },
  {
   "cell_type": "code",
   "execution_count": 10,
   "metadata": {},
   "outputs": [],
   "source": [
    "def euc_2d(c1,c2):\n",
    "    return math.sqrt((c1[0]-c2[0])**2+(c1[1]-c2[1])**2)\n",
    "\n",
    "def cost(sol,cities):\n",
    "    distance = 0 \n",
    "    for i,c1 in enumerate(sol):\n",
    "        if (i == len(sol)-1):\n",
    "            c2 = sol[0]\n",
    "        else:\n",
    "            c2 = sol[i+1]\n",
    "        distance += euc_2d(cities[c1],cities[c2])\n",
    "    return distance\n",
    "\n",
    "def random_permutation(cities):\n",
    "    perm = np.random.permutation(len(cities))\n",
    "    return perm"
   ]
  },
  {
   "cell_type": "code",
   "execution_count": 11,
   "metadata": {},
   "outputs": [],
   "source": [
    "def stochastic_two_op(permutation):\n",
    "    perm_size = len(permutation)\n",
    "    new_perm = []\n",
    "    x = list(permutation)\n",
    "    start,end = sorted(sample(range(perm_size),2))\n",
    "    exclude = [start]\n",
    "    if start==0:\n",
    "        exclude.append(perm_size-1)\n",
    "    else:\n",
    "        exclude.append(start-1)\n",
    "    if start==perm_size-1:\n",
    "        exclude.append(0)\n",
    "    else:\n",
    "        exclude.append(start+1)\n",
    "    while end in exclude:\n",
    "        end = sample(range(perm_size),1)[0]\n",
    "    if end < start:\n",
    "        start,end = end,start\n",
    "    new_perm = x[:start]\n",
    "    new_perm += (list(reversed(x[start:end])))\n",
    "    new_perm += x[end:]\n",
    "    \n",
    "    return new_perm\n",
    "\n",
    "def local_search(best, cities, max_no_improv):\n",
    "    n = 0\n",
    "    while n < max_no_improv:\n",
    "        candidate = {'vector':stochastic_two_op(best['vector'])}\n",
    "        candidate['cost'] = cost(candidate['vector'],cities)\n",
    "        if candidate['cost'] < best['cost']:\n",
    "            best = candidate\n",
    "            n +=1\n",
    "    return best\n",
    "    \n",
    "def double_bridge_move(perm):\n",
    "    perm_size = len(perm)\n",
    "    pos1 = 1 + random.randint(0,int(perm_size / 4))\n",
    "    pos2 = pos1 + 1 + random.randint(0,int(perm_size / 4))\n",
    "    pos3 = pos2 + 1 + random.randint(0,int(perm_size / 4))\n",
    "    p1 = perm[0:pos1] + perm[pos3:perm_size]\n",
    "    p2 = perm[pos2:pos3] + perm[pos1:pos2]\n",
    "    return p1 + p2\n",
    "\n",
    "def perturbation(cities, best):\n",
    "    candidate = {}\n",
    "    candidate['vector'] = double_bridge_move(best['vector'])\n",
    "    candidate['cost'] = cost(candidate['vector'], cities)\n",
    "    return candidate"
   ]
  },
  {
   "cell_type": "code",
   "execution_count": 12,
   "metadata": {},
   "outputs": [],
   "source": [
    "def search(cities, max_iterations, max_no_improv):\n",
    "    best = {}\n",
    "    best['vector'] = random_permutation(cities)\n",
    "    best['cost'] = cost(best['vector'], cities)\n",
    "    best = local_search(best, cities, max_no_improv)\n",
    "    for iter_ in range(max_iterations):\n",
    "        candidate = perturbation(cities,best)\n",
    "        candidate = local_search(candidate, cities, max_no_improv)\n",
    "        if candidate['cost'] < best['cost']:\n",
    "            best = candidate\n",
    "        print(\"Best solution of iters_ {} is_ {}\".format(iter_,candidate['cost']))\n",
    "\n",
    "    return best"
   ]
  },
  {
   "cell_type": "code",
   "execution_count": 19,
   "metadata": {},
   "outputs": [
    {
     "name": "stdout",
     "output_type": "stream",
     "text": [
      "Best solution of iters_ 0 is_ 19161.48953921109\n",
      "Best solution of iters_ 1 is_ 16369.1997256989\n",
      "Best solution of iters_ 2 is_ 15559.210510420802\n",
      "Best solution of iters_ 3 is_ 14496.80949445124\n",
      "Best solution of iters_ 4 is_ 13184.93511779229\n",
      "Best solution of iters_ 5 is_ 11462.370954170663\n",
      "Best solution of iters_ 6 is_ 9558.86911310166\n",
      "Best solution of iters_ 7 is_ 11835.518422389809\n",
      "Best solution of iters_ 8 is_ 10135.8182153666\n",
      "Best solution of iters_ 9 is_ 9539.848788809566\n"
     ]
    }
   ],
   "source": [
    "# problem configuration\n",
    "berlin52 = [[565,575],[25,185],[345,750],[945,685],[845,655],\n",
    "[880,660],[25,230],[525,1000],[580,1175],[650,1130],[1605,620],\n",
    "[1220,580],[1465,200],[1530,5],[845,680],[725,370],[145,665],\n",
    "[415,635],[510,875],[560,365],[300,465],[520,585],[480,415],\n",
    "[835,625],[975,580],[1215,245],[1320,315],[1250,400],[660,180],\n",
    "[410,250],[420,555],[575,665],[1150,1160],[700,580],[685,595],\n",
    "[685,610],[770,610],[795,645],[720,635],[760,650],[475,960],\n",
    "[95,260],[875,920],[700,500],[555,815],[830,485],[1170,65],\n",
    "[830,610],[605,625],[595,360],[1340,725],[1740,245]]\n",
    "# algorithm configuration\n",
    "max_iterations = 10\n",
    "max_no_improv = 20\n",
    "# execute the algorithm\n",
    "best = search(berlin52, max_iterations, max_no_improv)"
   ]
  },
  {
   "cell_type": "code",
   "execution_count": null,
   "metadata": {},
   "outputs": [],
   "source": []
  }
 ],
 "metadata": {
  "kernelspec": {
   "display_name": "Python 3",
   "language": "python",
   "name": "python3"
  },
  "language_info": {
   "codemirror_mode": {
    "name": "ipython",
    "version": 3
   },
   "file_extension": ".py",
   "mimetype": "text/x-python",
   "name": "python",
   "nbconvert_exporter": "python",
   "pygments_lexer": "ipython3",
   "version": "3.7.1"
  }
 },
 "nbformat": 4,
 "nbformat_minor": 2
}
